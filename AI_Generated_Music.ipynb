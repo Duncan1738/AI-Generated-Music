{
  "nbformat": 4,
  "nbformat_minor": 0,
  "metadata": {
    "colab": {
      "provenance": [],
      "authorship_tag": "ABX9TyMHtO25VcYlHhqszoFj1ru5",
      "include_colab_link": true
    },
    "kernelspec": {
      "name": "python3",
      "display_name": "Python 3"
    },
    "language_info": {
      "name": "python"
    }
  },
  "cells": [
    {
      "cell_type": "markdown",
      "metadata": {
        "id": "view-in-github",
        "colab_type": "text"
      },
      "source": [
        "<a href=\"https://colab.research.google.com/github/Duncan1738/AI-Generated-Music/blob/main/AI_Generated_Music.ipynb\" target=\"_parent\"><img src=\"https://colab.research.google.com/assets/colab-badge.svg\" alt=\"Open In Colab\"/></a>"
      ]
    },
    {
      "cell_type": "code",
      "execution_count": null,
      "metadata": {
        "id": "GX4NikLKEYnM"
      },
      "outputs": [],
      "source": [
        "# AI-Generated Music in Google Colab\n",
        "\n",
        "# =======================\n",
        "# 📌 Install Dependencies\n",
        "# =======================\n",
        "!pip install magenta midi2audio riffusion\n",
        "!apt-get install fluidsynth\n",
        "\n",
        "# ============================\n",
        "# 🎼 Generate a Melody (Magenta)\n",
        "# ============================\n",
        "from magenta.music import midi_synth\n",
        "from magenta.models.melody_rnn import melody_rnn_generate\n",
        "\n",
        "# Generate a melody with a trained RNN model\n",
        "!melody_rnn_generate \\\n",
        "  --bundle_file=/content/melody_rnn.mag \\\n",
        "  --output_dir=/content/generated \\\n",
        "  --num_outputs=1 \\\n",
        "  --num_steps=128 \\\n",
        "  --primer_melody=\"[60]\"  # Starting note (C4)\n",
        "\n",
        "# ==============================\n",
        "# 🎵 Convert MIDI to Audio (Magenta)\n",
        "# ==============================\n",
        "from midi2audio import FluidSynth\n",
        "\n",
        "fs = FluidSynth()\n",
        "fs.midi_to_audio('/content/generated/output.mid', '/content/output.wav')\n",
        "\n",
        "# ==============================\n",
        "# 🔊 Listen to the AI-Generated Music\n",
        "# ==============================\n",
        "from IPython.display import Audio\n",
        "Audio('/content/output.wav')\n",
        "\n",
        "# ==============================\n",
        "# 🎶 Generate Music from Text (Riffusion)\n",
        "# ==============================\n",
        "from riffusion.pipeline import RiffusionPipeline\n",
        "\n",
        "# Load the model\n",
        "pipeline = RiffusionPipeline()\n",
        "\n",
        "# Generate AI music based on a text prompt\n",
        "audio = pipeline.run_text_to_audio(\"relaxing jazz music with saxophone\")\n",
        "audio.save(\"/content/riffusion_output.wav\")\n",
        "\n",
        "# ==============================\n",
        "# 🔊 Play the Riffusion-Generated Music\n",
        "# ==============================\n",
        "Audio('/content/riffusion_output.wav')\n"
      ]
    }
  ]
}